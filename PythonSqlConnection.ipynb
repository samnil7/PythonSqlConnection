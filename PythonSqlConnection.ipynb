{
 "cells": [
  {
   "cell_type": "markdown",
   "id": "ec0aa721",
   "metadata": {},
   "source": [
    "# Fetched data from MySQL database & display table's content(using select)"
   ]
  },
  {
   "cell_type": "code",
   "execution_count": 3,
   "id": "efaa38e5",
   "metadata": {
    "scrolled": true
   },
   "outputs": [
    {
     "name": "stdout",
     "output_type": "stream",
     "text": [
      "<mysql.connector.connection_cext.CMySQLConnection object at 0x00000170D32775E0>\n",
      "(1, 'Alan Smith', datetime.date(1989, 1, 1), 1)\n",
      "(2, 'Sultan Nader', datetime.date(1992, 1, 1), 1)\n",
      "(3, 'Mohd Rasheed', datetime.date(1999, 1, 1), 2)\n",
      "(4, 'Brian Wallace', datetime.date(1979, 1, 1), 3)\n",
      "(5, 'Peter Hilton', datetime.date(1986, 1, 1), None)\n"
     ]
    }
   ],
   "source": [
    "import mysql.connector\n",
    "\n",
    "mydb = mysql.connector.connect( host=\"localhost\", user=\"Samrudhi\", passwd=\"Samnil7@\", database=\"data\" )\n",
    "\n",
    "print(mydb)\n",
    "\n",
    "mycursor = mydb.cursor()\n",
    "\n",
    "sql = \"SELECT * FROM Employees\"\n",
    "mycursor.execute(sql)\n",
    "\n",
    "myresult = mycursor.fetchall()\n",
    "\n",
    "for x in myresult:\n",
    "    print(x)"
   ]
  },
  {
   "cell_type": "markdown",
   "id": "66b9601d",
   "metadata": {},
   "source": [
    "# Insert Values"
   ]
  },
  {
   "cell_type": "code",
   "execution_count": 4,
   "id": "14f092ee",
   "metadata": {},
   "outputs": [
    {
     "name": "stdout",
     "output_type": "stream",
     "text": [
      "1 record inserted.\n"
     ]
    }
   ],
   "source": [
    "sql = \"Insert into Employees values (1,'Alan Smith','19890101',1)\"\n",
    "mycursor.execute(sql)\n",
    "mydb.commit()\n",
    "print(mycursor.rowcount, \"record inserted.\")"
   ]
  },
  {
   "cell_type": "markdown",
   "id": "078e05e8",
   "metadata": {},
   "source": [
    "# Delete Record"
   ]
  },
  {
   "cell_type": "code",
   "execution_count": 8,
   "id": "2f8fc72d",
   "metadata": {},
   "outputs": [
    {
     "name": "stdout",
     "output_type": "stream",
     "text": [
      "2 record(s) deleted.\n"
     ]
    }
   ],
   "source": [
    "sql = \"DELETE FROM Employees WHERE Employee_name = 'Alan Smith'\"\n",
    "mycursor.execute(sql)\n",
    "mydb.commit()\n",
    "print(mycursor.rowcount, \"record(s) deleted.\")"
   ]
  },
  {
   "cell_type": "markdown",
   "id": "028ae0df",
   "metadata": {},
   "source": [
    "# Update Record"
   ]
  },
  {
   "cell_type": "code",
   "execution_count": 11,
   "id": "8b265d6a",
   "metadata": {},
   "outputs": [
    {
     "name": "stdout",
     "output_type": "stream",
     "text": [
      "1 record updated.\n"
     ]
    }
   ],
   "source": [
    "sql = \"UPDATE Employees SET Department_ID  = 7 WHERE Employee_name = 'Peter Hilton'\"\n",
    "mycursor.execute(sql)\n",
    "mydb.commit()\n",
    "print(mycursor.rowcount, \"record updated.\")"
   ]
  },
  {
   "cell_type": "markdown",
   "id": "2b061f44",
   "metadata": {},
   "source": [
    "# Joins\n",
    "### JOINS are used to retrieve data from multiple tables. \n",
    "### Department table is already craeted on MySQL database"
   ]
  },
  {
   "cell_type": "code",
   "execution_count": 13,
   "id": "3e318c43",
   "metadata": {
    "scrolled": true
   },
   "outputs": [
    {
     "name": "stdout",
     "output_type": "stream",
     "text": [
      "(1, 'Human Resources')\n",
      "(2, 'Development')\n",
      "(3, 'Sales')\n",
      "(4, 'Technical Support')\n"
     ]
    }
   ],
   "source": [
    "sql = \"SELECT * FROM Departments\"\n",
    "mycursor.execute(sql)\n",
    "\n",
    "myresult = mycursor.fetchall()\n",
    "\n",
    "for x in myresult:\n",
    "    print(x)"
   ]
  },
  {
   "cell_type": "markdown",
   "id": "4a44ec90",
   "metadata": {},
   "source": [
    "## <u>Inner Join</u>\n",
    "### INNER JOIN Returns records that have matching values in both tables"
   ]
  },
  {
   "cell_type": "code",
   "execution_count": 16,
   "id": "a57e65e9",
   "metadata": {},
   "outputs": [
    {
     "name": "stdout",
     "output_type": "stream",
     "text": [
      "(2, 'Sultan Nader', datetime.date(1992, 1, 1), 'Human Resources')\n",
      "(3, 'Mohd Rasheed', datetime.date(1999, 1, 1), 'Development')\n",
      "(4, 'Brian Wallace', datetime.date(1979, 1, 1), 'Sales')\n"
     ]
    }
   ],
   "source": [
    "# if Department ID in Employees table matches Department_id  from Department table\n",
    "\n",
    "sql = \"SELECT Employee_id,Employee_name, Employee_DOB, Department_Name \\\n",
    "       FROM Departments INNER JOIN Employees\\\n",
    "       ON Departments.Department_id = Employees.Department_ID\"\n",
    "\n",
    "mycursor.execute(sql)\n",
    "myresult = mycursor.fetchall()\n",
    "for x in myresult:\n",
    "    print(x)"
   ]
  },
  {
   "cell_type": "markdown",
   "id": "1a4cc0ee",
   "metadata": {},
   "source": [
    "## <u>Outer join</u>\n",
    "### LEFT (OUTER) JOIN: Returns all records from the left table, and the matched records from the right table"
   ]
  },
  {
   "cell_type": "code",
   "execution_count": 17,
   "id": "e7285905",
   "metadata": {
    "scrolled": true
   },
   "outputs": [
    {
     "name": "stdout",
     "output_type": "stream",
     "text": [
      "(2, 'Sultan Nader', datetime.date(1992, 1, 1), 'Human Resources')\n",
      "(3, 'Mohd Rasheed', datetime.date(1999, 1, 1), 'Development')\n",
      "(4, 'Brian Wallace', datetime.date(1979, 1, 1), 'Sales')\n",
      "(5, 'Peter Hilton', datetime.date(1986, 1, 1), None)\n"
     ]
    }
   ],
   "source": [
    "sql = \"SELECT Employee_id,Employee_name, Employee_DOB, Department_Name\\\n",
    "       FROM Employees LEFT JOIN Departments\\\n",
    "       ON Departments.Department_id = Employees.Department_ID\"\n",
    "\n",
    "mycursor.execute(sql)\n",
    "myresult = mycursor.fetchall()\n",
    "for x in myresult:\n",
    "    print(x)"
   ]
  },
  {
   "cell_type": "markdown",
   "id": "0edbcf9a",
   "metadata": {},
   "source": [
    "### RIGHT (OUTER) JOIN: Returns all records from the right table, and the matched records from the left table"
   ]
  },
  {
   "cell_type": "code",
   "execution_count": 18,
   "id": "ac91de9f",
   "metadata": {},
   "outputs": [
    {
     "name": "stdout",
     "output_type": "stream",
     "text": [
      "(2, 'Sultan Nader', datetime.date(1992, 1, 1), 'Human Resources')\n",
      "(3, 'Mohd Rasheed', datetime.date(1999, 1, 1), 'Development')\n",
      "(4, 'Brian Wallace', datetime.date(1979, 1, 1), 'Sales')\n",
      "(None, None, None, 'Technical Support')\n"
     ]
    }
   ],
   "source": [
    "sql = \"SELECT Employee_id,Employee_name, Employee_DOB, Department_Name\\\n",
    "       FROM Employees RIGHT JOIN Departments\\\n",
    "       ON Departments.Department_id = Employees.Department_ID\"\n",
    "\n",
    "mycursor.execute(sql)\n",
    "myresult = mycursor.fetchall()\n",
    "for x in myresult:\n",
    "    print(x)"
   ]
  },
  {
   "cell_type": "markdown",
   "id": "952aee84",
   "metadata": {},
   "source": [
    "## <u>CROSS Join</u>\n",
    "### CROSS JOIN which is a bit different from the other Join operations. It is used to create a combination of two different sets without have mutual columns. "
   ]
  },
  {
   "cell_type": "code",
   "execution_count": 19,
   "id": "98dc4be2",
   "metadata": {},
   "outputs": [
    {
     "name": "stdout",
     "output_type": "stream",
     "text": [
      "(5, 'Peter Hilton', datetime.date(1986, 1, 1), 'Human Resources')\n",
      "(4, 'Brian Wallace', datetime.date(1979, 1, 1), 'Human Resources')\n",
      "(3, 'Mohd Rasheed', datetime.date(1999, 1, 1), 'Human Resources')\n",
      "(2, 'Sultan Nader', datetime.date(1992, 1, 1), 'Human Resources')\n",
      "(5, 'Peter Hilton', datetime.date(1986, 1, 1), 'Development')\n",
      "(4, 'Brian Wallace', datetime.date(1979, 1, 1), 'Development')\n",
      "(3, 'Mohd Rasheed', datetime.date(1999, 1, 1), 'Development')\n",
      "(2, 'Sultan Nader', datetime.date(1992, 1, 1), 'Development')\n",
      "(5, 'Peter Hilton', datetime.date(1986, 1, 1), 'Sales')\n",
      "(4, 'Brian Wallace', datetime.date(1979, 1, 1), 'Sales')\n",
      "(3, 'Mohd Rasheed', datetime.date(1999, 1, 1), 'Sales')\n",
      "(2, 'Sultan Nader', datetime.date(1992, 1, 1), 'Sales')\n",
      "(5, 'Peter Hilton', datetime.date(1986, 1, 1), 'Technical Support')\n",
      "(4, 'Brian Wallace', datetime.date(1979, 1, 1), 'Technical Support')\n",
      "(3, 'Mohd Rasheed', datetime.date(1999, 1, 1), 'Technical Support')\n",
      "(2, 'Sultan Nader', datetime.date(1992, 1, 1), 'Technical Support')\n"
     ]
    }
   ],
   "source": [
    "#As an example, if we need to create a combination of all departments with all employees.\n",
    "\n",
    "sql = \"SELECT Employee_id, Employee_name, Employee_DOB, Department_Name \\\n",
    "       FROM Employees CROSS JOIN Departments\"\n",
    "\n",
    "mycursor.execute(sql)\n",
    "myresult = mycursor.fetchall()\n",
    "for x in myresult:\n",
    "    print(x)"
   ]
  },
  {
   "cell_type": "code",
   "execution_count": null,
   "id": "1346ba7c",
   "metadata": {},
   "outputs": [],
   "source": []
  }
 ],
 "metadata": {
  "kernelspec": {
   "display_name": "Python 3 (ipykernel)",
   "language": "python",
   "name": "python3"
  },
  "language_info": {
   "codemirror_mode": {
    "name": "ipython",
    "version": 3
   },
   "file_extension": ".py",
   "mimetype": "text/x-python",
   "name": "python",
   "nbconvert_exporter": "python",
   "pygments_lexer": "ipython3",
   "version": "3.8.10"
  }
 },
 "nbformat": 4,
 "nbformat_minor": 5
}
